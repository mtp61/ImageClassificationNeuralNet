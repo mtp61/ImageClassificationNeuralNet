{
 "cells": [
  {
   "cell_type": "code",
   "execution_count": null,
   "metadata": {
    "scrolled": true
   },
   "outputs": [],
   "source": [
    "# packages\n",
    "\n",
    "import time\n",
    "import numpy as np\n",
    "import h5py\n",
    "import matplotlib.pyplot as plt\n",
    "import os\n",
    "from PIL import Image\n",
    "import re\n",
    "from tqdm import tqdm\n",
    "\n",
    "from functions import *\n",
    "\n",
    "%matplotlib inline\n",
    "plt.rcParams['figure.figsize'] = (5.0, 4.0) # set default size of plots\n",
    "plt.rcParams['image.interpolation'] = 'nearest'\n",
    "plt.rcParams['image.cmap'] = 'gray'\n",
    "\n",
    "%load_ext autoreload\n",
    "%autoreload 2\n",
    "\n",
    "np.random.seed(int(time.time()))\n"
   ]
  },
  {
   "cell_type": "code",
   "execution_count": 58,
   "metadata": {},
   "outputs": [
    {
     "name": "stderr",
     "output_type": "stream",
     "text": [
      "  0%|▍                                                                                                                                          | 8/2496 [00:00<00:32, 76.94it/s]"
     ]
    },
    {
     "name": "stdout",
     "output_type": "stream",
     "text": [
      "6 classes: ['car', 'city_bus', 'fire_hydrant', 'motorcycle', 'stop_sign', 'traffic_light']\n",
      "class counts: {'car': 650, 'city_bus': 330, 'fire_hydrant': 285, 'motorcycle': 252, 'stop_sign': 523, 'traffic_light': 456}\n"
     ]
    },
    {
     "name": "stderr",
     "output_type": "stream",
     "text": [
      " 13%|█████████████████▎                                                                                                                       | 315/2496 [00:03<00:25, 84.37it/s]"
     ]
    },
    {
     "name": "stdout",
     "output_type": "stream",
     "text": [
      "bad image\n"
     ]
    },
    {
     "name": "stderr",
     "output_type": "stream",
     "text": [
      " 15%|█████████████████████                                                                                                                    | 384/2496 [00:04<00:28, 75.09it/s]"
     ]
    },
    {
     "name": "stdout",
     "output_type": "stream",
     "text": [
      "bad image\n"
     ]
    },
    {
     "name": "stderr",
     "output_type": "stream",
     "text": [
      " 45%|█████████████████████████████████████████████████████████████▋                                                                          | 1131/2496 [00:13<00:15, 87.13it/s]"
     ]
    },
    {
     "name": "stdout",
     "output_type": "stream",
     "text": [
      "bad image\n"
     ]
    },
    {
     "name": "stderr",
     "output_type": "stream",
     "text": [
      "100%|████████████████████████████████████████████████████████████████████████████████████████████████████████████████████████████████████████| 2496/2496 [00:29<00:00, 83.65it/s]\n"
     ]
    }
   ],
   "source": [
    "# load each image into a vector\n",
    "\n",
    "def load_data():\n",
    "    images = os.listdir('images/')\n",
    "    classes = []\n",
    "    classcounts = {}\n",
    "    for image in images:\n",
    "        c = re.findall(\"[a-zA-Z_]+\", image)[0]\n",
    "        if c not in classes:\n",
    "            classes.append(c)\n",
    "            classcounts[c] = 1\n",
    "        else:\n",
    "            classcounts[c] += 1\n",
    "            \n",
    "    print(\"{} classes: {}\".format(len(classes), classes))\n",
    "    print(\"class counts: {}\".format(classcounts))\n",
    "    \n",
    "    x = []\n",
    "    y = []\n",
    "    \n",
    "\n",
    "    for image in tqdm(images):\n",
    "        img = Image.open('images/'+image)\n",
    "        pix = img.load()\n",
    "        w,h = img.size\n",
    "        \n",
    "        matrix_in = np.empty([w,h,3])\n",
    "\n",
    "        \n",
    "        try:\n",
    "            for color in range(3):\n",
    "                for x_coord in range(w):\n",
    "                    for y_coord in range(h):\n",
    "                        matrix_in[x_coord,y_coord,color] = int(pix[x_coord,y_coord][color])\n",
    "            \n",
    "            x.append(matrix_in)\n",
    "            \n",
    "            \n",
    "            matrix_out = np.zeros([len(classes)])\n",
    "            c = re.findall(\"[a-zA-Z_]+\", image)[0] # c is the class\n",
    "            pos = classes.index(c)\n",
    "            matrix_out[pos] = 1            \n",
    "            \n",
    "            y.append(matrix_out)\n",
    "\n",
    "        except:\n",
    "            print('bad image')\n",
    "        \n",
    "    test_x_orig = []\n",
    "    test_y = []\n",
    "    \n",
    "    test_num = 250\n",
    "    for i in range(test_num):\n",
    "        random_num = np.random.randint(0,len(x))\n",
    "        test_x_orig.append(x.pop(random_num))\n",
    "        test_y.append(y.pop(random_num))\n",
    "        \n",
    "    train_x_orig = np.asarray(np.stack(x))\n",
    "    train_y = np.asarray(np.transpose(np.stack(y)))\n",
    "    \n",
    "    test_x_orig = np.asarray(np.stack(test_x_orig))\n",
    "    test_y = np.asarray(np.transpose(np.stack(test_y)))\n",
    "    \n",
    "    return train_x_orig, train_y, test_x_orig, test_y, classes\n",
    "    \n",
    "        \n",
    "train_x_orig, train_y, test_x_orig, test_y, classes = load_data()\n"
   ]
  },
  {
   "cell_type": "code",
   "execution_count": 5,
   "metadata": {},
   "outputs": [
    {
     "name": "stdout",
     "output_type": "stream",
     "text": [
      "Number of training examples: 2243\n",
      "Number of testing examples: 250\n",
      "Each image is of size: (64, 64, 3)\n",
      "train_x_orig shape: (2243, 64, 64, 3)\n",
      "train_y shape: (6, 2243)\n",
      "test_x_orig shape: (250, 64, 64, 3)\n",
      "test_y shape: (6, 250)\n"
     ]
    }
   ],
   "source": [
    "# Explore your dataset \n",
    "m_train = train_x_orig.shape[0]\n",
    "num_px = train_x_orig.shape[1]\n",
    "m_test = test_x_orig.shape[0]\n",
    "\n",
    "print (\"Number of training examples: \" + str(m_train))\n",
    "print (\"Number of testing examples: \" + str(m_test))\n",
    "print (\"Each image is of size: (\" + str(num_px) + \", \" + str(num_px) + \", 3)\")\n",
    "print (\"train_x_orig shape: \" + str(train_x_orig.shape))\n",
    "print (\"train_y shape: \" + str(train_y.shape))\n",
    "print (\"test_x_orig shape: \" + str(test_x_orig.shape))\n",
    "print (\"test_y shape: \" + str(test_y.shape))"
   ]
  },
  {
   "cell_type": "code",
   "execution_count": 9,
   "metadata": {},
   "outputs": [
    {
     "name": "stdout",
     "output_type": "stream",
     "text": [
      "train_x's shape: (12288, 2243)\n",
      "test_x's shape: (12288, 250)\n"
     ]
    }
   ],
   "source": [
    "# Reshape the training and test examples \n",
    "train_x_flatten = train_x_orig.reshape(train_x_orig.shape[0], -1).T   # The \"-1\" makes reshape flatten the remaining dimensions\n",
    "test_x_flatten = test_x_orig.reshape(test_x_orig.shape[0], -1).T\n",
    "\n",
    "# Standardize data to have feature values between 0 and 1.\n",
    "train_x = train_x_flatten/255.\n",
    "test_x = test_x_flatten/255.\n",
    "\n",
    "print (\"train_x's shape: \" + str(train_x.shape))\n",
    "print (\"test_x's shape: \" + str(test_x.shape))"
   ]
  },
  {
   "cell_type": "code",
   "execution_count": 10,
   "metadata": {},
   "outputs": [],
   "source": [
    "### CONSTANTS DEFINING THE MODEL ####\n",
    "n_x = 12288     # num_px * num_px * 3\n",
    "n_h = 7\n",
    "n_y = 6\n",
    "layers_dims = (n_x, n_h, n_y)"
   ]
  },
  {
   "cell_type": "code",
   "execution_count": 11,
   "metadata": {},
   "outputs": [],
   "source": [
    "# implements 2 layer network\n",
    "\n",
    "def two_layer_model(X, Y, layers_dims, learning_rate = 0.0075, num_iterations = 2500, print_cost=False):\n",
    "    \"\"\"\n",
    "    Implements a two-layer neural network: LINEAR->RELU->LINEAR->SIGMOID.\n",
    "    \n",
    "    Arguments:\n",
    "    X -- input data, of shape (n_x, number of examples)\n",
    "    Y -- true \"label\" matrix of shape (5, number of examples)\n",
    "    layers_dims -- dimensions of the layers (n_x, n_h, n_y)\n",
    "    num_iterations -- number of iterations of the optimization loop\n",
    "    learning_rate -- learning rate of the gradient descent update rule\n",
    "    print_cost -- If set to True, this will print the cost every 100 iterations \n",
    "    \n",
    "    Returns:\n",
    "    parameters -- a dictionary containing W1, W2, b1, and b2\n",
    "    \"\"\"\n",
    "    \n",
    "    grads = {}\n",
    "    costs = []                              # to keep track of the cost\n",
    "    m = X.shape[1]                           # number of examples\n",
    "    (n_x, n_h, n_y) = layers_dims\n",
    "    \n",
    "    # Initialize parameters dictionary, by calling one of the functions you'd previously implemented\n",
    "    parameters = initialize_parameters(n_x, n_h, n_y)\n",
    "    \n",
    "    # Get W1, b1, W2 and b2 from the dictionary parameters.\n",
    "    W1 = parameters[\"W1\"]\n",
    "    b1 = parameters[\"b1\"]\n",
    "    W2 = parameters[\"W2\"]\n",
    "    b2 = parameters[\"b2\"]\n",
    "    \n",
    "    # Loop (gradient descent)\n",
    "\n",
    "    for i in range(0, num_iterations):\n",
    "\n",
    "        # Forward propagation: LINEAR -> RELU -> LINEAR -> SIGMOID. Inputs: \"X, W1, b1\". Output: \"A1, cache1, A2, cache2\".\n",
    "        A1, cache1 = linear_activation_forward(X, W1, b1, \"relu\")\n",
    "        A2, cache2 = linear_activation_forward(A1, W2, b2, \"sigmoid\")\n",
    "        \n",
    "        # Compute cost\n",
    "        cost = compute_cost(A2, Y)\n",
    "        \n",
    "        # Initializing backward propagation\n",
    "        dA2 = - (np.divide(Y, A2) - np.divide(1 - Y, 1 - A2))\n",
    "        \n",
    "        \n",
    "        # Backward propagation. Inputs: \"dA2, cache2, cache1\". Outputs: \"dA1, dW2, db2; also dA0 (not used), dW1, db1\".\n",
    "        dA1, dW2, db2 = linear_activation_backward(dA2, cache2, \"sigmoid\")\n",
    "        dA0, dW1, db1 = linear_activation_backward(dA1, cache1, \"relu\")\n",
    "        \n",
    "        # Set grads['dWl'] to dW1, grads['db1'] to db1, grads['dW2'] to dW2, grads['db2'] to db2\n",
    "        grads['dW1'] = dW1\n",
    "        grads['db1'] = db1\n",
    "        grads['dW2'] = dW2\n",
    "        grads['db2'] = db2\n",
    "        \n",
    "        # Update parameters.\n",
    "        parameters = update_parameters(parameters, grads, learning_rate)\n",
    "\n",
    "        # Retrieve W1, b1, W2, b2 from parameters\n",
    "        W1 = parameters[\"W1\"]\n",
    "        b1 = parameters[\"b1\"]\n",
    "        W2 = parameters[\"W2\"]\n",
    "        b2 = parameters[\"b2\"]\n",
    "        \n",
    "        # Print the cost every 100 training example\n",
    "        if print_cost and i % 100 == 0:\n",
    "            print(\"Cost after iteration {}: {}, {}\".format(i, cost))\n",
    "        if print_cost and i % 100 == 0:\n",
    "            costs.append(cost)\n",
    "       \n",
    "    # plot the cost\n",
    "\n",
    "    plt.plot(np.squeeze(costs))\n",
    "    plt.ylabel('cost')\n",
    "    plt.xlabel('iterations (per tens)')\n",
    "    plt.title(\"Learning rate =\" + str(learning_rate))\n",
    "    plt.show()\n",
    "    \n",
    "    return parameters"
   ]
  },
  {
   "cell_type": "code",
   "execution_count": 16,
   "metadata": {},
   "outputs": [
    {
     "name": "stdout",
     "output_type": "stream",
     "text": [
      "Cost after iteration 0: 4.169487675107868, 4.169487675107868\n",
      "Cost after iteration 100: 2.713308094481775, 2.713308094481775\n",
      "Cost after iteration 200: 2.609495121096611, 2.609495121096611\n",
      "Cost after iteration 300: 2.2854360303126318, 2.2854360303126318\n",
      "Cost after iteration 400: 2.105322035342081, 2.105322035342081\n",
      "Cost after iteration 500: 1.9069337238011181, 1.9069337238011181\n",
      "Cost after iteration 600: 1.7515918680451317, 1.7515918680451317\n",
      "Cost after iteration 700: 1.6345028254689569, 1.6345028254689569\n",
      "Cost after iteration 800: 1.5479412644133148, 1.5479412644133148\n",
      "Cost after iteration 900: 1.479646091071319, 1.479646091071319\n",
      "Cost after iteration 1000: 1.420820136787438, 1.420820136787438\n",
      "Cost after iteration 1100: 1.3694698537804733, 1.3694698537804733\n",
      "Cost after iteration 1200: 1.3253336942206881, 1.3253336942206881\n",
      "Cost after iteration 1300: 1.2868216437676514, 1.2868216437676514\n",
      "Cost after iteration 1400: 1.2523563357995853, 1.2523563357995853\n",
      "Cost after iteration 1500: 1.2208686890384435, 1.2208686890384435\n",
      "Cost after iteration 1600: 1.1913761023999454, 1.1913761023999454\n",
      "Cost after iteration 1700: 1.163512442407819, 1.163512442407819\n",
      "Cost after iteration 1800: 1.1368823022840548, 1.1368823022840548\n",
      "Cost after iteration 1900: 1.111349241868079, 1.111349241868079\n",
      "Cost after iteration 2000: 1.0867085707660946, 1.0867085707660946\n",
      "Cost after iteration 2100: 1.06280915293216, 1.06280915293216\n",
      "Cost after iteration 2200: 1.0395453877073508, 1.0395453877073508\n",
      "Cost after iteration 2300: 1.0200291588204933, 1.0200291588204933\n",
      "Cost after iteration 2400: 1.0214727937319434, 1.0214727937319434\n"
     ]
    },
    {
     "data": {
      "image/png": "[encoded data removed]",
      "text/plain": [
       "<Figure size 432x288 with 1 Axes>"
      ]
     },
     "metadata": {
      "needs_background": "light"
     },
     "output_type": "display_data"
    }
   ],
   "source": [
    "# compute network parameteres, outputting cost along the way\n",
    "\n",
    "parameters = two_layer_model(train_x, train_y, layers_dims = (n_x, n_h, n_y), num_iterations = 2500, print_cost=True)"
   ]
  },
  {
   "cell_type": "markdown",
   "metadata": {},
   "source": [
    "Now, you can use the trained parameters to classify images from the dataset. To see your predictions on the training and test sets, run the cell below."
   ]
  },
  {
   "cell_type": "code",
   "execution_count": 17,
   "metadata": {},
   "outputs": [
    {
     "name": "stdout",
     "output_type": "stream",
     "text": [
      "Accuracy: 0.936914846188141\n"
     ]
    }
   ],
   "source": [
    "predictions_train = predict(train_x, train_y, parameters)"
   ]
  },
  {
   "cell_type": "code",
   "execution_count": 18,
   "metadata": {},
   "outputs": [
    {
     "name": "stdout",
     "output_type": "stream",
     "text": [
      "Accuracy: 0.908666666666667\n"
     ]
    }
   ],
   "source": [
    "predictions_test = predict(test_x, test_y, parameters)"
   ]
  },
  {
   "cell_type": "code",
   "execution_count": 53,
   "metadata": {},
   "outputs": [],
   "source": [
    "### CONSTANTS ###\n",
    "layers_dims = [12288, 7, 7, 7, 6] #  4-layer model"
   ]
  },
  {
   "cell_type": "code",
   "execution_count": 54,
   "metadata": {},
   "outputs": [],
   "source": [
    "# implements the l layer network\n",
    "\n",
    "def L_layer_model(X, Y, layers_dims, learning_rate = 0.0075, num_iterations = 2500, print_cost=False):#lr was 0.009\n",
    "    \"\"\"\n",
    "    Implements a L-layer neural network: [LINEAR->RELU]*(L-1)->LINEAR->SIGMOID.\n",
    "    \n",
    "    Arguments:\n",
    "    X -- data, numpy array of shape (number of examples, num_px * num_px * 3)\n",
    "    Y -- true \"label\" matrix of shape (5, number of examples)\n",
    "    layers_dims -- list containing the input size and each layer size, of length (number of layers + 1).\n",
    "    learning_rate -- learning rate of the gradient descent update rule\n",
    "    num_iterations -- number of iterations of the optimization loop\n",
    "    print_cost -- if True, it prints the cost every 100 steps\n",
    "    \n",
    "    Returns:\n",
    "    parameters -- parameters learnt by the model. They can then be used to predict.\n",
    "    \"\"\"\n",
    "\n",
    "    costs = []                         # keep track of cost\n",
    "    \n",
    "    # Parameters initialization. (≈ 1 line of code)\n",
    "    parameters = initialize_parameters_deep(layers_dims)\n",
    "    \n",
    "    # Loop (gradient descent)\n",
    "    for i in range(0, num_iterations):\n",
    "\n",
    "        # Forward propagation: [LINEAR -> RELU]*(L-1) -> LINEAR -> SIGMOID.\n",
    "        AL, caches = L_model_forward(X, parameters)\n",
    "        \n",
    "        # Compute cost.\n",
    "        cost = compute_cost(AL, Y)\n",
    "    \n",
    "        # Backward propagation.\n",
    "        grads = L_model_backward(AL, Y, caches)\n",
    " \n",
    "        # Update parameters.\n",
    "        parameters = update_parameters(parameters, grads, learning_rate)\n",
    "                \n",
    "        # Print the cost every 100 training example\n",
    "        if print_cost and i % 100 == 0:\n",
    "            print (\"Cost after iteration {}: {}\".format(i, cost))\n",
    "        if print_cost and i % 100 == 0:\n",
    "            costs.append(cost)\n",
    "            \n",
    "    # plot the cost\n",
    "    plt.plot(np.squeeze(costs))\n",
    "    plt.ylabel('cost')\n",
    "    plt.xlabel('iterations (per tens)')\n",
    "    plt.title(\"Learning rate =\" + str(learning_rate))\n",
    "    plt.show()\n",
    "    \n",
    "    return parameters"
   ]
  },
  {
   "cell_type": "code",
   "execution_count": 55,
   "metadata": {
    "scrolled": true
   },
   "outputs": [
    {
     "name": "stdout",
     "output_type": "stream",
     "text": [
      "Cost after iteration 0: 4.158883724557591\n",
      "Cost after iteration 100: 3.7297996451115827\n",
      "Cost after iteration 200: 3.433301088273151\n",
      "Cost after iteration 300: 3.225950099653514\n",
      "Cost after iteration 400: 3.078746828500081\n",
      "Cost after iteration 500: 2.9725961371415144\n",
      "Cost after iteration 600: 2.8948885249363974\n",
      "Cost after iteration 700: 2.83720438113394\n",
      "Cost after iteration 800: 2.7938384559999068\n",
      "Cost after iteration 900: 2.7608629022193334\n",
      "Cost after iteration 1000: 2.7355304253798507\n",
      "Cost after iteration 1100: 2.7158904077932737\n",
      "Cost after iteration 1200: 2.7005379489358816\n",
      "Cost after iteration 1300: 2.6884479983232055\n",
      "Cost after iteration 1400: 2.6788635984768865\n",
      "Cost after iteration 1500: 2.6712195853401908\n",
      "Cost after iteration 1600: 2.665089727862221\n",
      "Cost after iteration 1700: 2.660149607902234\n",
      "Cost after iteration 1800: 2.656150215714988\n",
      "Cost after iteration 1900: 2.6528989460242984\n",
      "Cost after iteration 2000: 2.650245767168715\n",
      "Cost after iteration 2100: 2.6480730518463376\n",
      "Cost after iteration 2200: 2.6462880275515976\n",
      "Cost after iteration 2300: 2.6448171219021086\n",
      "Cost after iteration 2400: 2.643601692529224\n"
     ]
    },
    {
     "data": {
      "image/png": "[encoded data removed]",
      "text/plain": [
       "<Figure size 360x288 with 1 Axes>"
      ]
     },
     "metadata": {
      "needs_background": "light"
     },
     "output_type": "display_data"
    }
   ],
   "source": [
    "parameters = L_layer_model(train_x, train_y, layers_dims, num_iterations = 2500, print_cost = True)"
   ]
  },
  {
   "cell_type": "code",
   "execution_count": 61,
   "metadata": {},
   "outputs": [
    {
     "name": "stdout",
     "output_type": "stream",
     "text": [
      "Accuracy: 0.8333333333333336\n"
     ]
    }
   ],
   "source": [
    "pred_train = predict(train_x, train_y, parameters)"
   ]
  },
  {
   "cell_type": "code",
   "execution_count": 62,
   "metadata": {},
   "outputs": [
    {
     "name": "stdout",
     "output_type": "stream",
     "text": [
      "Accuracy: 0.8333333333333335\n"
     ]
    }
   ],
   "source": [
    "pred_test = predict(test_x, test_y, parameters)"
   ]
  }
 ],
 "metadata": {
  "kernelspec": {
   "display_name": "Python 3",
   "language": "python",
   "name": "python3"
  },
  "language_info": {
   "codemirror_mode": {
    "name": "ipython",
    "version": 3
   },
   "file_extension": ".py",
   "mimetype": "text/x-python",
   "name": "python",
   "nbconvert_exporter": "python",
   "pygments_lexer": "ipython3",
   "version": "3.6.5"
  }
 },
 "nbformat": 4,
 "nbformat_minor": 2
}
